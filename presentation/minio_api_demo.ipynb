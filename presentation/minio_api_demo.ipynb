{
 "cells": [
  {
   "cell_type": "markdown",
   "metadata": {},
   "source": [
    "cloudwatch_dashboard_url = \"https://console.aws.amazon.com/cloudwatch/home?region=us-east-1#dashboards:name=MinIO-Metrics-Dashboard\"\n",
    "minio_api_url = \"http://minio-lb-1482623918.us-east-1.elb.amazonaws.com\"\n",
    "minio_console_url = \"http://minio-lb-1482623918.us-east-1.elb.amazonaws.com:9001\"\n",
    "minio_lb_dns_name = \"minio-lb-1482623918.us-east-1.elb.amazonaws.com\"\n",
    "minio_server_a_ip = \"54.161.137.33\"\n",
    "minio_server_b_ip = \"3.95.25.160\"\n",
    "\n",
    "\n",
    "\n",
    "grafana_instance_id = \"i-04b53252c64af5922\"\n",
    "grafana_login_instructions = \"Access Grafana at http://184.73.151.131:3000 with default username 'admin' and password 'admin'. You will be prompted to change the password on first login.\"\n",
    "grafana_public_ip = \"184.73.151.131\"\n",
    "grafana_ssh_connection = \"ssh -i labsuser.pem ec2-user@184.73.151.131\"\n",
    "grafana_url = \"http://184.73.151.131:3000\"\n",
    "minio_integration_instructions = \"After logging into Grafana, navigate to Dashboards > Browse > AWS > MinIO Monitoring to view your MinIO metrics.\"\n",
    "s3_bucket_name = \"grafana-storage-20250419021904876100000002\""
   ]
  },
  {
   "cell_type": "code",
   "execution_count": 3,
   "metadata": {},
   "outputs": [],
   "source": [
    "# ! pip install boto3"
   ]
  },
  {
   "cell_type": "code",
   "execution_count": 11,
   "metadata": {},
   "outputs": [
    {
     "name": "stdout",
     "output_type": "stream",
     "text": [
      "remote-slides.html\n"
     ]
    }
   ],
   "source": [
    "import boto3\n",
    "from botocore.client import Config\n",
    "\n",
    "# MinIO server configuration\n",
    "endpoint_url = 'http://54.161.137.33:9000'\n",
    "access_key = 'minio'\n",
    "secret_key = 'minio123'\n",
    "region_name = 'us-east-1'\n",
    "\n",
    "# Create a boto3 client for MinIO\n",
    "s3_client = boto3.client(\n",
    "    's3',\n",
    "    endpoint_url=endpoint_url,\n",
    "    aws_access_key_id=access_key,\n",
    "    aws_secret_access_key=secret_key,\n",
    "    region_name=region_name,\n",
    "    config=Config(signature_version='s3v4')\n",
    ")\n",
    "\n",
    "BUCKET_NAME = 'demo'\n",
    "# Create a bucket\n",
    "s3_client.create_bucket(Bucket=BUCKET_NAME)\n",
    "\n",
    "# Upload a file to the bucket\n",
    "s3_client.upload_file('slides.html', BUCKET_NAME, 'remote-slides.html')\n",
    "\n",
    "# List all objects in the bucket\n",
    "response = s3_client.list_objects_v2(Bucket=BUCKET_NAME)\n",
    "for obj in response.get('Contents', []):\n",
    "    print(obj['Key'])\n",
    "\n",
    "# # Download a file from the bucket\n",
    "# s3_client.download_file(BUCKET_NAME, 'remote-slides.html', 'downloaded-slides.html')\n",
    "\n",
    "# # Delete an object\n",
    "# s3_client.delete_object(Bucket=BUCKET_NAME, Key='remote-slides.html')\n",
    "\n",
    "# # Delete the bucket\n",
    "# s3_client.delete_bucket(Bucket=BUCKET_NAME)"
   ]
  }
 ],
 "metadata": {
  "kernelspec": {
   "display_name": "7374_A2",
   "language": "python",
   "name": "python3"
  },
  "language_info": {
   "codemirror_mode": {
    "name": "ipython",
    "version": 3
   },
   "file_extension": ".py",
   "mimetype": "text/x-python",
   "name": "python",
   "nbconvert_exporter": "python",
   "pygments_lexer": "ipython3",
   "version": "3.7.12"
  }
 },
 "nbformat": 4,
 "nbformat_minor": 2
}
